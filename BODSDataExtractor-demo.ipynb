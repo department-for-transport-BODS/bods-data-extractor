{
 "cells": [
  {
   "cell_type": "code",
   "execution_count": null,
   "id": "9267eaf1",
   "metadata": {
    "ExecuteTime": {
     "end_time": "2023-06-28T14:38:56.783317Z",
     "start_time": "2023-06-28T14:38:55.269218Z"
    },
    "scrolled": true
   },
   "outputs": [],
   "source": [
    "!pip install BODSDataExtractor"
   ]
  },
  {
   "cell_type": "code",
   "execution_count": null,
   "id": "103974f1",
   "metadata": {
    "ExecuteTime": {
     "end_time": "2023-06-29T08:52:33.904135Z",
     "start_time": "2023-06-29T08:52:31.510667Z"
    }
   },
   "outputs": [],
   "source": [
    "import os\n",
    "import pandas as pd\n",
    "from BODSDataExtractor.extractor import TimetableExtractor"
   ]
  },
  {
   "cell_type": "markdown",
   "id": "85ac7785",
   "metadata": {},
   "source": [
    "## Insert your API Key from https://data.bus-data.dft.gov.uk/\n"
   ]
  },
  {
   "cell_type": "code",
   "execution_count": null,
   "id": "37073dc8",
   "metadata": {
    "ExecuteTime": {
     "end_time": "2023-06-29T08:52:35.724306Z",
     "start_time": "2023-06-29T08:52:35.716172Z"
    }
   },
   "outputs": [],
   "source": [
    "api = os.environ.get('bods_api_key')\n"
   ]
  },
  {
   "cell_type": "markdown",
   "id": "4d1ab6c0",
   "metadata": {},
   "source": [
    "## Use TimetableExtractor to get all info on bus service lines"
   ]
  },
  {
   "cell_type": "markdown",
   "id": "39dbad5b",
   "metadata": {},
   "source": [
    "3 levels of granularity for the data:\n",
    " - Metadata (dataset info)\n",
    " - Service Level (bus service info)\n",
    " - Stop Level (timetable)\n",
    " "
   ]
  },
  {
   "cell_type": "code",
   "execution_count": null,
   "id": "c5a38cc4",
   "metadata": {
    "ExecuteTime": {
     "end_time": "2023-06-29T08:52:44.266607Z",
     "start_time": "2023-06-29T08:52:42.198414Z"
    },
    "scrolled": true
   },
   "outputs": [],
   "source": [
    "bods_data = TimetableExtractor(api_key=api\n",
    "                               ,service_line_level=True\n",
    "                               ,stop_level=False\n",
    "                               ,limit = 5)"
   ]
  },
  {
   "cell_type": "markdown",
   "id": "86a22bb5",
   "metadata": {},
   "source": [
    "#### View the metadata for all service lines"
   ]
  },
  {
   "cell_type": "markdown",
   "id": "a2caf6ed",
   "metadata": {},
   "source": [
    "This is the same as the data that can be seen on dataset info pages in the BODS UI. E.g. https://data.bus-data.dft.gov.uk/timetable/dataset/322/"
   ]
  },
  {
   "cell_type": "code",
   "execution_count": null,
   "id": "84525697",
   "metadata": {
    "ExecuteTime": {
     "end_time": "2023-06-28T16:05:36.830146Z",
     "start_time": "2023-06-28T16:05:36.812484Z"
    }
   },
   "outputs": [],
   "source": [
    "metadata = bods_data.metadata\n",
    "print(metadata.head())"
   ]
  },
  {
   "cell_type": "markdown",
   "id": "e0f48fcd",
   "metadata": {},
   "source": [
    "#### View the service line level info using \"bods_data.service_line_extract\""
   ]
  },
  {
   "cell_type": "code",
   "execution_count": null,
   "id": "3e49faaf",
   "metadata": {
    "ExecuteTime": {
     "end_time": "2023-01-27T12:52:13.653866Z",
     "start_time": "2023-01-27T12:52:13.642869Z"
    }
   },
   "outputs": [],
   "source": [
    "service_line_info = bods_data.service_line_extract\n",
    "\n",
    "print(service_line_info.head())"
   ]
  },
  {
   "cell_type": "markdown",
   "id": "5e9f134c",
   "metadata": {},
   "source": [
    "#### Count the number of unique operators who have published data to BODS using the count_operators() method."
   ]
  },
  {
   "cell_type": "code",
   "execution_count": null,
   "id": "6d5b15ad",
   "metadata": {
    "ExecuteTime": {
     "end_time": "2023-06-28T15:19:53.085190Z",
     "start_time": "2023-06-28T15:19:53.067170Z"
    }
   },
   "outputs": [],
   "source": [
    "bods_data.count_operators()"
   ]
  },
  {
   "cell_type": "markdown",
   "id": "6d558a77",
   "metadata": {},
   "source": [
    "## Extract a Timetable"
   ]
  },
  {
   "cell_type": "markdown",
   "id": "ab72ca76",
   "metadata": {},
   "source": [
    "The code cell below extracts and parses timetable data for a single dataset. It takes the TransXChange data from each file, and produces a pandas dataframe for each inbound and outbound journey associated with a file."
   ]
  },
  {
   "cell_type": "code",
   "execution_count": null,
   "id": "cac21900",
   "metadata": {
    "ExecuteTime": {
     "end_time": "2023-06-28T16:16:06.547734Z",
     "start_time": "2023-06-28T16:13:46.058367Z"
    }
   },
   "outputs": [],
   "source": [
    "timetable_ = TimetableExtractor(api_key=api # Your API Key Here\n",
    "                                 ,limit=1 # How many datasets to view\n",
    "                                 ,status = 'published' # Only view published datasets\n",
    "                                 ,service_line_level=True # True if you require Service line data \n",
    "                                 ,stop_level=True # True if you require stop level data\n",
    "                               )"
   ]
  },
  {
   "cell_type": "markdown",
   "id": "bb73526d",
   "metadata": {},
   "source": [
    "Use the code below to view the first row of the 'stop level extract' dataframe. This will contain the service level data as mentioned above, but will also hold a dataframe for each inbound and outbound timetable for each file.\n",
    "\n",
    "Take the first row of the stop level extract, this represents the first file in the dataset:"
   ]
  },
  {
   "cell_type": "code",
   "execution_count": null,
   "id": "e17d282d",
   "metadata": {
    "ExecuteTime": {
     "end_time": "2023-06-28T16:16:50.036487Z",
     "start_time": "2023-06-28T16:16:50.010569Z"
    },
    "scrolled": true
   },
   "outputs": [],
   "source": [
    "first_file = timetable_.stop_level_extract.iloc[0]\n",
    "print(first_file)"
   ]
  },
  {
   "cell_type": "markdown",
   "id": "cb97d2ea",
   "metadata": {
    "ExecuteTime": {
     "end_time": "2023-06-28T16:16:31.160482Z",
     "start_time": "2023-06-28T16:16:31.134347Z"
    }
   },
   "source": [
    "As you can see, this variable now contains some useful information about the file and inbound and outbound timetables. Lets look at the outbound timetable:"
   ]
  },
  {
   "cell_type": "code",
   "execution_count": null,
   "id": "163e71bd",
   "metadata": {
    "ExecuteTime": {
     "end_time": "2023-06-28T16:22:15.797035Z",
     "start_time": "2023-06-28T16:22:15.779919Z"
    }
   },
   "outputs": [],
   "source": [
    "outbound_timetable = first_file['collated_timetable_outbound']\n",
    "print(outbound_timetable)"
   ]
  },
  {
   "cell_type": "markdown",
   "id": "86e97260",
   "metadata": {},
   "source": [
    "You can save all of the timetables for the data you have queried with the function below. This will save to the current working directory."
   ]
  },
  {
   "cell_type": "code",
   "execution_count": null,
   "id": "91627175",
   "metadata": {
    "ExecuteTime": {
     "end_time": "2023-06-28T16:24:20.185551Z",
     "start_time": "2023-06-28T16:24:19.578661Z"
    }
   },
   "outputs": [],
   "source": [
    "timetable_.save_timetables()"
   ]
  }
 ],
 "metadata": {
  "kernelspec": {
   "display_name": "Python 3 (ipykernel)",
   "language": "python",
   "name": "python3"
  },
  "language_info": {
   "codemirror_mode": {
    "name": "ipython",
    "version": 3
   },
   "file_extension": ".py",
   "mimetype": "text/x-python",
   "name": "python",
   "nbconvert_exporter": "python",
   "pygments_lexer": "ipython3",
   "version": "3.9.16"
  },
  "toc": {
   "base_numbering": 1,
   "nav_menu": {},
   "number_sections": true,
   "sideBar": true,
   "skip_h1_title": false,
   "title_cell": "Table of Contents",
   "title_sidebar": "Contents",
   "toc_cell": false,
   "toc_position": {},
   "toc_section_display": true,
   "toc_window_display": false
  },
  "varInspector": {
   "cols": {
    "lenName": 16,
    "lenType": 16,
    "lenVar": 40
   },
   "kernels_config": {
    "python": {
     "delete_cmd_postfix": "",
     "delete_cmd_prefix": "del ",
     "library": "var_list.py",
     "varRefreshCmd": "print(var_dic_list())"
    },
    "r": {
     "delete_cmd_postfix": ") ",
     "delete_cmd_prefix": "rm(",
     "library": "var_list.r",
     "varRefreshCmd": "cat(var_dic_list()) "
    }
   },
   "types_to_exclude": [
    "module",
    "function",
    "builtin_function_or_method",
    "instance",
    "_Feature"
   ],
   "window_display": false
  }
 },
 "nbformat": 4,
 "nbformat_minor": 5
}
